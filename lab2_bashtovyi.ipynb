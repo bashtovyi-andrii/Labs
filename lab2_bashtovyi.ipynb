{
 "cells": [
  {
   "cell_type": "code",
   "execution_count": 59,
   "metadata": {
    "executionInfo": {
     "elapsed": 1948,
     "status": "ok",
     "timestamp": 1605466492514,
     "user": {
      "displayName": "Марина Кисляк",
      "photoUrl": "https://lh3.googleusercontent.com/a-/AOh14GhrkeosMefkqSxqNfnqO6VOnqv9bL1rvMd0WilT9A=s64",
      "userId": "11323962741176635047"
     },
     "user_tz": -120
    },
    "id": "nHLb3cyiQG5r"
   },
   "outputs": [],
   "source": [
    "import numpy as np\n",
    "import pandas as pd\n",
    "import matplotlib.pyplot as plt\n",
    "import tensorflow as tf\n",
    "from tensorflow import keras\n",
    "from tensorflow.keras import layers\n",
    "from skimage.io import imread_collection, imshow\n",
    "from sklearn.model_selection import train_test_split\n",
    "\n",
    "\n",
    "from keras.models import Sequential\n",
    "from keras.layers import InputLayer, Conv2D, MaxPooling2D, Flatten, Dropout, Dense\n",
    "from keras.optimizers import adam"
   ]
  },
  {
   "cell_type": "markdown",
   "metadata": {},
   "source": [
    "Lets import our data.\n",
    "\n",
    "Since image shape vary, we will use padd_image function to transform images into the shape (300, 300, 3).\n",
    "\n",
    "We will exclude grayscale images from the dataset."
   ]
  },
  {
   "cell_type": "code",
   "execution_count": 68,
   "metadata": {
    "colab": {
     "base_uri": "https://localhost:8080/"
    },
    "executionInfo": {
     "elapsed": 2157,
     "status": "ok",
     "timestamp": 1605466855253,
     "user": {
      "displayName": "Марина Кисляк",
      "photoUrl": "https://lh3.googleusercontent.com/a-/AOh14GhrkeosMefkqSxqNfnqO6VOnqv9bL1rvMd0WilT9A=s64",
      "userId": "11323962741176635047"
     },
     "user_tz": -120
    },
    "id": "DqhroJ3oQMHk",
    "outputId": "aaa09e69-9cd9-4dfd-da70-dd1e6a0c090d"
   },
   "outputs": [
    {
     "name": "stdout",
     "output_type": "stream",
     "text": [
      "beaver\n",
      "cellphone\n",
      "dollar_bill\n",
      "garfield\n",
      "kangaroo\n",
      "minaret\n",
      "rhino\n",
      "stegosaurus\n",
      "windsor_chair\n"
     ]
    }
   ],
   "source": [
    "i = -1\n",
    "def padd_image(img):\n",
    "        global i\n",
    "        i += 1\n",
    "        old_image_height, old_image_width, channels = img.shape\n",
    "\n",
    "        # create new image of desired size and color (blue) for padding\n",
    "        new_image_width = 300\n",
    "        new_image_height = 300\n",
    "        color = (0,0,0)\n",
    "        result = np.full((new_image_height,new_image_width, channels), color, dtype=np.uint8)\n",
    "\n",
    "        # compute center offset\n",
    "        x_center = (new_image_width - old_image_width) // 2\n",
    "        y_center = (new_image_height - old_image_height) // 2\n",
    "\n",
    "        # copy img image into center of result image\n",
    "        result[y_center:y_center+old_image_height, \n",
    "               x_center:x_center+old_image_width] = img\n",
    "        \n",
    "        return result\n",
    "    \n",
    "n_imgs = 545\n",
    "n_labels = 9\n",
    "input_shape = (300, 300, 3)\n",
    "X = np.zeros((n_imgs, 300, 300, 3), dtype=np.int32)\n",
    "Y = np.zeros(n_imgs)\n",
    "\n",
    "# the data, split between train and test sets\n",
    "beaver = imread_collection('/Users/andrei/Desktop/KNUProjects/Masters/Neironki/master_labs/101_ObjectCategories/beaver/*.jpg')\n",
    "print('beaver')\n",
    "for images in beaver:\n",
    "    if len(images.shape) == 3:\n",
    "        res = padd_image(images)\n",
    "        X[i] = res\n",
    "        Y[i] = 0\n",
    "        #Y[i] = [1, 0, 0, 0, 0, 0, 0, 0, 0]\n",
    "\n",
    "cellphone = imread_collection('/Users/andrei/Desktop/KNUProjects/Masters/Neironki/master_labs/101_ObjectCategories/cellphone/*.jpg')\n",
    "print('cellphone')\n",
    "for images in cellphone:\n",
    "    if len(images.shape) == 3:\n",
    "        res = padd_image(images)\n",
    "        X[i] = res\n",
    "        Y[i] = 1\n",
    "        #Y[i] = [0, 1, 0, 0, 0, 0, 0, 0, 0]\n",
    "\n",
    "dollar_bill = imread_collection('/Users/andrei/Desktop/KNUProjects/Masters/Neironki/master_labs/101_ObjectCategories/dollar_bill/*.jpg')\n",
    "print('dollar_bill')\n",
    "for images in dollar_bill:\n",
    "    if len(images.shape) == 3:\n",
    "        res = padd_image(images)\n",
    "        X[i] = res\n",
    "        Y[i] = 2\n",
    "        #Y[i] = [0, 1, 0, 0, 0, 0, 0, 0, 0]\n",
    "\n",
    "garfield = imread_collection('/Users/andrei/Desktop/KNUProjects/Masters/Neironki/master_labs/101_ObjectCategories/garfield/*.jpg')\n",
    "print('garfield')\n",
    "for images in garfield:\n",
    "    if len(images.shape) == 3:\n",
    "        res = padd_image(images)\n",
    "        res = padd_image(images)\n",
    "        X[i] = res\n",
    "        Y[i] = 3\n",
    "        #Y[i] = [0, 1, 0, 0, 0, 0, 0, 0, 0]\n",
    "\n",
    "kangaroo = imread_collection('/Users/andrei/Desktop/KNUProjects/Masters/Neironki/master_labs/101_ObjectCategories/kangaroo/*.jpg')\n",
    "print('kangaroo')\n",
    "for images in kangaroo:\n",
    "    if len(images.shape) == 3:\n",
    "        res = padd_image(images)\n",
    "        X[i] = res\n",
    "        Y[i] = 4\n",
    "        #Y[i] = [0, 1, 0, 0, 0, 0, 0, 0, 0]\n",
    "\n",
    "minaret = imread_collection('/Users/andrei/Desktop/KNUProjects/Masters/Neironki/master_labs/101_ObjectCategories/minaret/*.jpg')\n",
    "print('minaret')\n",
    "for images in minaret:\n",
    "    if len(images.shape) == 3:\n",
    "        res = padd_image(images)\n",
    "        X[i] = res\n",
    "        Y[i] = 5\n",
    "        #Y[i] = [0, 1, 0, 0, 0, 0, 0, 0, 0]\n",
    "    \n",
    "rhino = imread_collection('/Users/andrei/Desktop/KNUProjects/Masters/Neironki/master_labs/101_ObjectCategories/rhino/*.jpg')\n",
    "print('rhino')\n",
    "for images in rhino:\n",
    "    if len(images.shape) == 3:\n",
    "        res = padd_image(images)\n",
    "        X[i] = res\n",
    "        Y[i] = 6\n",
    "        #Y[i] = [0, 1, 0, 0, 0, 0, 0, 0, 0]\n",
    "\n",
    "stegosaurus = imread_collection('/Users/andrei/Desktop/KNUProjects/Masters/Neironki/master_labs/101_ObjectCategories/stegosaurus/*.jpg')\n",
    "print('stegosaurus')\n",
    "for images in stegosaurus:\n",
    "    if len(images.shape) == 3:\n",
    "        res = padd_image(images)\n",
    "        X[i] = res\n",
    "        Y[i] = 7\n",
    "        #Y[i] = [0, 1, 0, 0, 0, 0, 0, 0, 0]\n",
    "\n",
    "windsor_chair = imread_collection('/Users/andrei/Desktop/KNUProjects/Masters/Neironki/master_labs/101_ObjectCategories/windsor_chair/*.jpg')\n",
    "print('windsor_chair')\n",
    "for images in windsor_chair:\n",
    "    if len(images.shape) == 3:\n",
    "        res = padd_image(images)\n",
    "        X[i] = res\n",
    "        Y[i] = 8\n",
    "        #Y[i] = [0, 1, 0, 0, 0, 0, 0, 0, 0]"
   ]
  },
  {
   "cell_type": "markdown",
   "metadata": {},
   "source": [
    "We obtained dataset X and set of coresponding labels Y.\n",
    "\n",
    "Labels corespond to the following indexes:\n",
    "0 - beaver,\n",
    "1 - cellphone,\n",
    "2 - dollar_bill,\n",
    "3 - garfield,\n",
    "4 - kangaroo,\n",
    "5 - minaret,\n",
    "6 - rhino,\n",
    "7 - stegosaurus,\n",
    "8 - windsor_chair.\n",
    "\n",
    "Lets show an example of the (X, Y) pair."
   ]
  },
  {
   "cell_type": "code",
   "execution_count": 69,
   "metadata": {},
   "outputs": [
    {
     "name": "stderr",
     "output_type": "stream",
     "text": [
      "/Users/andrei/anaconda3/envs/nlp_course/lib/python3.7/site-packages/skimage/io/_plugins/matplotlib_plugin.py:150: UserWarning: Low image data range; displaying image with stretched contrast.\n",
      "  lo, hi, cmap = _get_display_range(image)\n"
     ]
    },
    {
     "data": {
      "text/plain": [
       "1.0"
      ]
     },
     "execution_count": 69,
     "metadata": {},
     "output_type": "execute_result"
    },
    {
     "data": {
      "image/png": "[encoded data removed]",
      "text/plain": [
       "<Figure size 432x288 with 2 Axes>"
      ]
     },
     "metadata": {
      "needs_background": "light"
     },
     "output_type": "display_data"
    }
   ],
   "source": [
    "imshow(X[54])\n",
    "Y[54]"
   ]
  },
  {
   "cell_type": "markdown",
   "metadata": {},
   "source": [
    "Lets normalize pixel values to the range (0, 1).\n",
    "\n",
    "Lets transform numerical values of 0, 1, 2, 3 .. 8 into the arrays of label probabilities. Label 0 will be [1, 0, 0, 0 .., 0] etc.\n",
    "\n",
    "Lets split our data to the train and test sets."
   ]
  },
  {
   "cell_type": "code",
   "execution_count": 70,
   "metadata": {},
   "outputs": [],
   "source": [
    "X = X/255.\n",
    "Y = pd.get_dummies(Y)\n",
    "Y_cols = list(Y.columns)\n",
    "Y = Y.values\n",
    "\n",
    "#split between train and test sets\n",
    "x_train, x_test, y_train, y_test = train_test_split(X, Y)"
   ]
  },
  {
   "cell_type": "markdown",
   "metadata": {},
   "source": [
    "Lets define, train and test dense model."
   ]
  },
  {
   "cell_type": "code",
   "execution_count": 71,
   "metadata": {},
   "outputs": [],
   "source": [
    "def dense(input_shape, n_labels):\n",
    "    model = Sequential()\n",
    "    model.add(Flatten(input_shape=(300, 300, 3)))\n",
    "    model.add(Dense(32, kernel_initializer=\"normal\", activation=\"relu\"))\n",
    "    model.add(Dense(64, kernel_initializer=\"normal\", activation=\"relu\"))\n",
    "    model.add(Dense(128, kernel_initializer=\"normal\", activation=\"relu\"))\n",
    "    model.add(Dense(64, kernel_initializer=\"normal\", activation=\"relu\"))\n",
    "    model.add(Dense(n_labels, kernel_initializer=\"normal\", activation=\"softmax\"))\n",
    "    model.compile(optimizer=adam(lr = 0.001, decay=1e-6),\n",
    "        loss=\"categorical_crossentropy\", metrics=[\"accuracy\"])\n",
    "    model.summary()\n",
    "    return model"
   ]
  },
  {
   "cell_type": "code",
   "execution_count": 72,
   "metadata": {},
   "outputs": [
    {
     "name": "stdout",
     "output_type": "stream",
     "text": [
      "Model: \"sequential_23\"\n",
      "_________________________________________________________________\n",
      "Layer (type)                 Output Shape              Param #   \n",
      "=================================================================\n",
      "flatten_20 (Flatten)         (None, 270000)            0         \n",
      "_________________________________________________________________\n",
      "dense_83 (Dense)             (None, 32)                8640032   \n",
      "_________________________________________________________________\n",
      "dense_84 (Dense)             (None, 64)                2112      \n",
      "_________________________________________________________________\n",
      "dense_85 (Dense)             (None, 128)               8320      \n",
      "_________________________________________________________________\n",
      "dense_86 (Dense)             (None, 64)                8256      \n",
      "_________________________________________________________________\n",
      "dense_87 (Dense)             (None, 9)                 585       \n",
      "=================================================================\n",
      "Total params: 8,659,305\n",
      "Trainable params: 8,659,305\n",
      "Non-trainable params: 0\n",
      "_________________________________________________________________\n",
      "Train on 326 samples, validate on 82 samples\n",
      "Epoch 1/50\n",
      "326/326 [==============================] - 2s 6ms/step - loss: 2.1897 - accuracy: 0.2270 - val_loss: 2.0524 - val_accuracy: 0.3049\n",
      "Epoch 2/50\n",
      "326/326 [==============================] - 1s 3ms/step - loss: 1.8410 - accuracy: 0.4049 - val_loss: 1.6473 - val_accuracy: 0.4634\n",
      "Epoch 3/50\n",
      "326/326 [==============================] - 1s 3ms/step - loss: 1.5506 - accuracy: 0.4540 - val_loss: 1.4134 - val_accuracy: 0.6098\n",
      "Epoch 4/50\n",
      "326/326 [==============================] - 1s 3ms/step - loss: 1.4449 - accuracy: 0.4632 - val_loss: 1.3767 - val_accuracy: 0.5854\n",
      "Epoch 5/50\n",
      "326/326 [==============================] - 1s 3ms/step - loss: 1.2828 - accuracy: 0.5276 - val_loss: 1.3157 - val_accuracy: 0.6585\n",
      "Epoch 6/50\n",
      "326/326 [==============================] - 1s 3ms/step - loss: 1.1975 - accuracy: 0.6012 - val_loss: 1.3297 - val_accuracy: 0.6585\n",
      "Epoch 7/50\n",
      "326/326 [==============================] - 1s 3ms/step - loss: 1.0967 - accuracy: 0.6074 - val_loss: 1.1114 - val_accuracy: 0.6463\n",
      "Epoch 8/50\n",
      "326/326 [==============================] - 1s 3ms/step - loss: 0.9940 - accuracy: 0.6564 - val_loss: 1.2329 - val_accuracy: 0.6829\n",
      "Epoch 9/50\n",
      "326/326 [==============================] - 1s 3ms/step - loss: 0.9516 - accuracy: 0.7117 - val_loss: 1.1941 - val_accuracy: 0.6463\n",
      "Epoch 10/50\n",
      "326/326 [==============================] - 1s 3ms/step - loss: 0.9633 - accuracy: 0.6963 - val_loss: 1.1041 - val_accuracy: 0.7073\n",
      "Epoch 11/50\n",
      "326/326 [==============================] - 1s 3ms/step - loss: 0.9203 - accuracy: 0.7025 - val_loss: 1.1128 - val_accuracy: 0.6829\n",
      "Epoch 12/50\n",
      "326/326 [==============================] - 1s 3ms/step - loss: 0.8988 - accuracy: 0.6994 - val_loss: 1.2942 - val_accuracy: 0.6220\n",
      "Epoch 13/50\n",
      "326/326 [==============================] - 1s 3ms/step - loss: 0.8035 - accuracy: 0.7147 - val_loss: 1.0586 - val_accuracy: 0.6829\n",
      "Epoch 14/50\n",
      "326/326 [==============================] - 1s 3ms/step - loss: 0.7573 - accuracy: 0.7730 - val_loss: 1.1549 - val_accuracy: 0.6707\n",
      "Epoch 15/50\n",
      "326/326 [==============================] - 1s 3ms/step - loss: 0.8358 - accuracy: 0.7178 - val_loss: 1.1245 - val_accuracy: 0.6951\n",
      "Epoch 16/50\n",
      "326/326 [==============================] - 1s 3ms/step - loss: 0.7214 - accuracy: 0.7638 - val_loss: 1.1004 - val_accuracy: 0.7195\n",
      "Epoch 17/50\n",
      "326/326 [==============================] - 1s 3ms/step - loss: 0.6539 - accuracy: 0.7883 - val_loss: 1.1730 - val_accuracy: 0.7073\n",
      "Epoch 18/50\n",
      "326/326 [==============================] - 1s 3ms/step - loss: 0.6251 - accuracy: 0.8221 - val_loss: 1.0358 - val_accuracy: 0.6829\n",
      "Epoch 19/50\n",
      "326/326 [==============================] - 1s 3ms/step - loss: 0.5514 - accuracy: 0.8650 - val_loss: 1.0932 - val_accuracy: 0.7195\n",
      "Epoch 20/50\n",
      "326/326 [==============================] - 1s 3ms/step - loss: 0.5231 - accuracy: 0.8528 - val_loss: 1.1581 - val_accuracy: 0.6951\n",
      "Epoch 21/50\n",
      "326/326 [==============================] - 1s 3ms/step - loss: 0.4887 - accuracy: 0.8558 - val_loss: 1.1925 - val_accuracy: 0.6951\n",
      "Epoch 22/50\n",
      "326/326 [==============================] - 1s 3ms/step - loss: 0.7269 - accuracy: 0.7945 - val_loss: 1.4542 - val_accuracy: 0.5488\n",
      "Epoch 23/50\n",
      "326/326 [==============================] - 1s 3ms/step - loss: 0.6019 - accuracy: 0.8558 - val_loss: 1.3978 - val_accuracy: 0.6463\n",
      "Epoch 24/50\n",
      "326/326 [==============================] - 1s 3ms/step - loss: 0.4490 - accuracy: 0.8834 - val_loss: 0.9982 - val_accuracy: 0.7195\n",
      "Epoch 25/50\n",
      "326/326 [==============================] - 1s 3ms/step - loss: 0.4028 - accuracy: 0.9018 - val_loss: 1.4091 - val_accuracy: 0.6585\n",
      "Epoch 26/50\n",
      "326/326 [==============================] - 1s 3ms/step - loss: 0.4723 - accuracy: 0.8589 - val_loss: 1.1632 - val_accuracy: 0.6829\n",
      "Epoch 27/50\n",
      "326/326 [==============================] - 1s 3ms/step - loss: 0.4798 - accuracy: 0.8742 - val_loss: 1.1145 - val_accuracy: 0.7561\n",
      "Epoch 28/50\n",
      "326/326 [==============================] - 1s 3ms/step - loss: 0.3447 - accuracy: 0.9049 - val_loss: 1.2566 - val_accuracy: 0.6829\n",
      "Epoch 29/50\n",
      "326/326 [==============================] - 1s 3ms/step - loss: 0.3107 - accuracy: 0.9264 - val_loss: 1.0415 - val_accuracy: 0.7317\n",
      "Epoch 30/50\n",
      "326/326 [==============================] - 1s 3ms/step - loss: 0.2839 - accuracy: 0.9049 - val_loss: 1.5046 - val_accuracy: 0.6463\n",
      "Epoch 31/50\n",
      "326/326 [==============================] - 1s 3ms/step - loss: 0.5697 - accuracy: 0.8466 - val_loss: 1.3183 - val_accuracy: 0.7073\n",
      "Epoch 32/50\n",
      "326/326 [==============================] - 1s 3ms/step - loss: 0.5324 - accuracy: 0.8313 - val_loss: 1.1631 - val_accuracy: 0.6463\n",
      "Epoch 33/50\n",
      "326/326 [==============================] - 1s 3ms/step - loss: 0.3904 - accuracy: 0.8896 - val_loss: 1.3740 - val_accuracy: 0.6707\n",
      "Epoch 34/50\n",
      "326/326 [==============================] - 1s 3ms/step - loss: 0.3358 - accuracy: 0.9141 - val_loss: 0.8830 - val_accuracy: 0.7439\n",
      "Epoch 35/50\n",
      "326/326 [==============================] - 1s 3ms/step - loss: 0.2772 - accuracy: 0.9141 - val_loss: 1.0838 - val_accuracy: 0.7317\n",
      "Epoch 36/50\n",
      "326/326 [==============================] - 1s 3ms/step - loss: 0.2327 - accuracy: 0.9356 - val_loss: 1.2318 - val_accuracy: 0.7317\n",
      "Epoch 37/50\n",
      "326/326 [==============================] - 1s 3ms/step - loss: 0.2537 - accuracy: 0.9356 - val_loss: 1.0582 - val_accuracy: 0.7683\n",
      "Epoch 38/50\n",
      "326/326 [==============================] - 1s 3ms/step - loss: 0.2726 - accuracy: 0.9080 - val_loss: 0.8764 - val_accuracy: 0.7317\n",
      "Epoch 39/50\n",
      "326/326 [==============================] - 1s 3ms/step - loss: 0.1914 - accuracy: 0.9540 - val_loss: 1.1486 - val_accuracy: 0.7561\n",
      "Epoch 40/50\n",
      "326/326 [==============================] - 1s 3ms/step - loss: 0.1392 - accuracy: 0.9663 - val_loss: 1.0232 - val_accuracy: 0.7561\n",
      "Epoch 41/50\n",
      "326/326 [==============================] - 1s 3ms/step - loss: 0.1325 - accuracy: 0.9632 - val_loss: 1.2658 - val_accuracy: 0.7195\n",
      "Epoch 42/50\n",
      "326/326 [==============================] - 1s 3ms/step - loss: 0.1228 - accuracy: 0.9571 - val_loss: 1.0559 - val_accuracy: 0.7561\n",
      "Epoch 43/50\n",
      "326/326 [==============================] - 1s 3ms/step - loss: 0.0907 - accuracy: 0.9816 - val_loss: 1.4280 - val_accuracy: 0.7195\n",
      "Epoch 44/50\n",
      "326/326 [==============================] - 1s 3ms/step - loss: 0.0913 - accuracy: 0.9724 - val_loss: 1.1149 - val_accuracy: 0.7561\n",
      "Epoch 45/50\n",
      "326/326 [==============================] - 1s 3ms/step - loss: 0.0644 - accuracy: 0.9816 - val_loss: 1.0595 - val_accuracy: 0.7317\n",
      "Epoch 46/50\n",
      "326/326 [==============================] - 1s 3ms/step - loss: 0.0493 - accuracy: 0.9877 - val_loss: 1.2852 - val_accuracy: 0.7439\n",
      "Epoch 47/50\n",
      "326/326 [==============================] - 1s 3ms/step - loss: 0.0323 - accuracy: 0.9969 - val_loss: 1.0482 - val_accuracy: 0.7561\n",
      "Epoch 48/50\n",
      "326/326 [==============================] - 1s 3ms/step - loss: 0.0319 - accuracy: 0.9939 - val_loss: 1.0892 - val_accuracy: 0.7439\n",
      "Epoch 49/50\n",
      "326/326 [==============================] - 1s 3ms/step - loss: 0.0259 - accuracy: 0.9969 - val_loss: 1.3150 - val_accuracy: 0.7317\n"
     ]
    },
    {
     "name": "stdout",
     "output_type": "stream",
     "text": [
      "Epoch 50/50\n",
      "326/326 [==============================] - 1s 3ms/step - loss: 0.0179 - accuracy: 1.0000 - val_loss: 1.2029 - val_accuracy: 0.7439\n"
     ]
    },
    {
     "data": {
      "text/plain": [
       "<keras.callbacks.callbacks.History at 0x7f95066bb790>"
      ]
     },
     "execution_count": 72,
     "metadata": {},
     "output_type": "execute_result"
    }
   ],
   "source": [
    "model_d = dense(input_shape, n_labels)\n",
    "batch_size = 64\n",
    "epochs = 50\n",
    "\n",
    "model_d.fit(x_train, y_train, batch_size=batch_size, epochs=epochs, validation_split=0.2)"
   ]
  },
  {
   "cell_type": "markdown",
   "metadata": {},
   "source": [
    "Model with 8,659,305 parametrs and dense layers showed 70% test accuracy"
   ]
  },
  {
   "cell_type": "code",
   "execution_count": 73,
   "metadata": {
    "colab": {
     "base_uri": "https://localhost:8080/"
    },
    "executionInfo": {
     "elapsed": 1294,
     "status": "ok",
     "timestamp": 1605466909638,
     "user": {
      "displayName": "Марина Кисляк",
      "photoUrl": "https://lh3.googleusercontent.com/a-/AOh14GhrkeosMefkqSxqNfnqO6VOnqv9bL1rvMd0WilT9A=s64",
      "userId": "11323962741176635047"
     },
     "user_tz": -120
    },
    "id": "tl5pxRiqR8k7",
    "outputId": "33d5eba3-4fa2-4d63-8038-ee5c4da37609"
   },
   "outputs": [
    {
     "name": "stdout",
     "output_type": "stream",
     "text": [
      "Test loss: 1.7012835040579748\n",
      "Test accuracy: 0.7007299065589905\n"
     ]
    }
   ],
   "source": [
    "score = model_d.evaluate(x_test, y_test, verbose=0)\n",
    "print(\"Test loss:\", score[0])\n",
    "print(\"Test accuracy:\", score[1])"
   ]
  },
  {
   "cell_type": "markdown",
   "metadata": {},
   "source": [
    "Lets define, train and test convolutional model."
   ]
  },
  {
   "cell_type": "code",
   "execution_count": 84,
   "metadata": {},
   "outputs": [],
   "source": [
    "def cnn(input_shape, n_labels):\n",
    "    model = Sequential()\n",
    "    model.add(InputLayer(input_shape))\n",
    "    model.add(Conv2D(64, kernel_size=(3, 3), activation=\"relu\"))\n",
    "    model.add(MaxPooling2D(pool_size=(2, 2)))\n",
    "    model.add(Conv2D(64, kernel_size=(3, 3)))\n",
    "    model.add(MaxPooling2D(pool_size=(2, 2)))\n",
    "    model.add(Flatten())\n",
    "    model.add(Dropout(0.5))\n",
    "    model.add(Dense(n_labels, activation=\"softmax\"))\n",
    "    model.compile(optimizer=adam(lr = 0.001, decay=1e-6),\n",
    "        loss=\"categorical_crossentropy\", metrics=[\"accuracy\"])\n",
    "    model.summary()\n",
    "    return model"
   ]
  },
  {
   "cell_type": "code",
   "execution_count": 85,
   "metadata": {
    "colab": {
     "base_uri": "https://localhost:8080/"
    },
    "executionInfo": {
     "elapsed": 28780,
     "status": "ok",
     "timestamp": 1605466903792,
     "user": {
      "displayName": "Марина Кисляк",
      "photoUrl": "https://lh3.googleusercontent.com/a-/AOh14GhrkeosMefkqSxqNfnqO6VOnqv9bL1rvMd0WilT9A=s64",
      "userId": "11323962741176635047"
     },
     "user_tz": -120
    },
    "id": "fKiUqFOlQXgc",
    "outputId": "29f6e305-387e-4d5c-8383-0088d7fedd8a"
   },
   "outputs": [
    {
     "name": "stdout",
     "output_type": "stream",
     "text": [
      "Model: \"sequential_28\"\n",
      "_________________________________________________________________\n",
      "Layer (type)                 Output Shape              Param #   \n",
      "=================================================================\n",
      "conv2d_17 (Conv2D)           (None, 298, 298, 64)      1792      \n",
      "_________________________________________________________________\n",
      "max_pooling2d_16 (MaxPooling (None, 149, 149, 64)      0         \n",
      "_________________________________________________________________\n",
      "conv2d_18 (Conv2D)           (None, 147, 147, 64)      36928     \n",
      "_________________________________________________________________\n",
      "max_pooling2d_17 (MaxPooling (None, 73, 73, 64)        0         \n",
      "_________________________________________________________________\n",
      "flatten_25 (Flatten)         (None, 341056)            0         \n",
      "_________________________________________________________________\n",
      "dropout_11 (Dropout)         (None, 341056)            0         \n",
      "_________________________________________________________________\n",
      "dense_92 (Dense)             (None, 9)                 3069513   \n",
      "=================================================================\n",
      "Total params: 3,108,233\n",
      "Trainable params: 3,108,233\n",
      "Non-trainable params: 0\n",
      "_________________________________________________________________\n",
      "Train on 367 samples, validate on 41 samples\n",
      "Epoch 1/15\n",
      "367/367 [==============================] - 37s 101ms/step - loss: 5.9520 - accuracy: 0.2098 - val_loss: 4.0458 - val_accuracy: 0.4390\n",
      "Epoch 2/15\n",
      "367/367 [==============================] - 27s 73ms/step - loss: 4.0500 - accuracy: 0.2670 - val_loss: 3.1665 - val_accuracy: 0.3902\n",
      "Epoch 3/15\n",
      "367/367 [==============================] - 24s 67ms/step - loss: 2.4383 - accuracy: 0.4469 - val_loss: 2.7795 - val_accuracy: 0.5122\n",
      "Epoch 4/15\n",
      "367/367 [==============================] - 26s 71ms/step - loss: 1.5441 - accuracy: 0.5913 - val_loss: 1.8777 - val_accuracy: 0.6098\n",
      "Epoch 5/15\n",
      "367/367 [==============================] - 26s 72ms/step - loss: 0.9620 - accuracy: 0.6785 - val_loss: 1.3454 - val_accuracy: 0.6341\n",
      "Epoch 6/15\n",
      "367/367 [==============================] - 25s 68ms/step - loss: 0.8609 - accuracy: 0.6839 - val_loss: 0.8850 - val_accuracy: 0.6829\n",
      "Epoch 7/15\n",
      "367/367 [==============================] - 27s 75ms/step - loss: 0.5712 - accuracy: 0.8665 - val_loss: 1.0238 - val_accuracy: 0.7317\n",
      "Epoch 8/15\n",
      "367/367 [==============================] - 25s 69ms/step - loss: 0.4446 - accuracy: 0.9074 - val_loss: 1.2733 - val_accuracy: 0.7073\n",
      "Epoch 9/15\n",
      "367/367 [==============================] - 27s 72ms/step - loss: 0.3705 - accuracy: 0.8910 - val_loss: 1.0410 - val_accuracy: 0.7561\n",
      "Epoch 10/15\n",
      "367/367 [==============================] - 36s 97ms/step - loss: 0.2525 - accuracy: 0.9401 - val_loss: 0.8574 - val_accuracy: 0.7317\n",
      "Epoch 11/15\n",
      "367/367 [==============================] - 26s 71ms/step - loss: 0.2017 - accuracy: 0.9537 - val_loss: 0.7203 - val_accuracy: 0.7561\n",
      "Epoch 12/15\n",
      "367/367 [==============================] - 25s 68ms/step - loss: 0.1531 - accuracy: 0.9728 - val_loss: 0.7343 - val_accuracy: 0.7073\n",
      "Epoch 13/15\n",
      "367/367 [==============================] - 24s 67ms/step - loss: 0.1342 - accuracy: 0.9700 - val_loss: 0.7275 - val_accuracy: 0.7073\n",
      "Epoch 14/15\n",
      "367/367 [==============================] - 39s 105ms/step - loss: 0.1014 - accuracy: 0.9755 - val_loss: 0.7091 - val_accuracy: 0.7805\n",
      "Epoch 15/15\n",
      "367/367 [==============================] - 27s 73ms/step - loss: 0.0807 - accuracy: 0.9837 - val_loss: 0.7146 - val_accuracy: 0.7317\n"
     ]
    },
    {
     "data": {
      "text/plain": [
       "<keras.callbacks.callbacks.History at 0x7f9028ddcc10>"
      ]
     },
     "execution_count": 85,
     "metadata": {},
     "output_type": "execute_result"
    }
   ],
   "source": [
    "model = cnn(input_shape, n_labels)\n",
    "batch_size = 128\n",
    "epochs = 15\n",
    "\n",
    "model.fit(x_train, y_train, batch_size=batch_size, epochs=epochs, validation_split=0.1)"
   ]
  },
  {
   "cell_type": "markdown",
   "metadata": {},
   "source": [
    "Model with 3,108,2335 parametrs and convolutional layers showed 74% test accuracy"
   ]
  },
  {
   "cell_type": "code",
   "execution_count": 86,
   "metadata": {},
   "outputs": [
    {
     "name": "stdout",
     "output_type": "stream",
     "text": [
      "Test loss: 0.9328046523741562\n",
      "Test accuracy: 0.7372262477874756\n"
     ]
    }
   ],
   "source": [
    "score = model.evaluate(x_test, y_test, verbose=0)\n",
    "print(\"Test loss:\", score[0])\n",
    "print(\"Test accuracy:\", score[1])"
   ]
  },
  {
   "cell_type": "markdown",
   "metadata": {},
   "source": [
    "Conclusion:\n",
    "\n",
    "Considering the dataset we used, our simple models shown good results.  545 images is not enough to train a network that will be able to perfectly classify 9 different objects. Moreover, some of the images from the \"cellphone\" and \"minaret\" were rotated, which reflects on the models accuracy as well.  \n",
    "\n",
    "Still, from the results it is obvious, that convolutional networks are better for the image clasification tasks then dense networks."
   ]
  }
 ],
 "metadata": {
  "accelerator": "GPU",
  "colab": {
   "authorship_tag": "ABX9TyMmttXAhzq1PbITBJ0dvgAl",
   "collapsed_sections": [],
   "name": "Laba_3_Python_Part_1.ipynb",
   "provenance": []
  },
  "kernelspec": {
   "display_name": "Python 3 (ipykernel)",
   "language": "python",
   "name": "python3"
  },
  "language_info": {
   "codemirror_mode": {
    "name": "ipython",
    "version": 3
   },
   "file_extension": ".py",
   "mimetype": "text/x-python",
   "name": "python",
   "nbconvert_exporter": "python",
   "pygments_lexer": "ipython3",
   "version": "3.7.11"
  }
 },
 "nbformat": 4,
 "nbformat_minor": 1
}
